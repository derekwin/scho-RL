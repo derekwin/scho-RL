{
 "cells": [
  {
   "cell_type": "markdown",
   "metadata": {},
   "source": [
    "# PPO算法\n"
   ]
  },
  {
   "cell_type": "code",
   "execution_count": null,
   "metadata": {},
   "outputs": [],
   "source": [
    "from schorl_utils import Train, Agent\n",
    "from schorl_utils.net import generate_mlpnet, show_net_structure"
   ]
  }
 ],
 "metadata": {
  "kernelspec": {
   "display_name": "Python 3.9.7 ('base')",
   "language": "python",
   "name": "python3"
  },
  "language_info": {
   "name": "python",
   "version": "3.9.7"
  },
  "orig_nbformat": 4,
  "vscode": {
   "interpreter": {
    "hash": "b9f5ab073a657fe4cc5417b6d00e97d396a1575f5354cbd9223aaad774df1bf7"
   }
  }
 },
 "nbformat": 4,
 "nbformat_minor": 2
}
